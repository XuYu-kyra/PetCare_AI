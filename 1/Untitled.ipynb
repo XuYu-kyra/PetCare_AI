{
 "cells": [
  {
   "cell_type": "code",
   "execution_count": 13,
   "id": "0f99da26-e997-4448-bd52-03943b999aff",
   "metadata": {},
   "outputs": [],
   "source": [
    "import numpy as np \n",
    "\n",
    "import pandas as pd "
   ]
  },
  {
   "cell_type": "code",
   "execution_count": 27,
   "id": "516d8926-3bb2-4588-8d58-6aabcd6ad49d",
   "metadata": {},
   "outputs": [
    {
     "name": "stdout",
     "output_type": "stream",
     "text": [
      "        question                                             answer\n",
      "0  犬瘟狗狗一直哼哼的叫怎么办  狗狗感染犬瘟热病毒出现一直哼哼的叫，需要立即咨询医生用药治疗。通常狗狗感染犬瘟热病毒会出现精...\n",
      "1     狗狗内脏受伤能活几天  狗狗内脏受损存活的时间与损伤程度息息相关。如果是心脏、脾脏等重要器官损伤出血，通常几分钟或者...\n",
      "2   三个月泰迪怎么训练大小便  通常情况下，建议3月龄泰迪使用奖惩的方式训练大小便。3月龄的泰迪学习能力较强，通常训练3月零...\n",
      "3     狗狗眼睛有白色粘稠物  狗狗眼睛有白色粘稠物，需要主人每天用生理盐水沾湿纸巾擦拭眼睛周围异物。通常引起狗狗眼睛分泌白...\n",
      "4  狗狗拉肚子恢复期吃什么食物  狗狗拉肚子恢复期建议喂食肠道处方罐头、肠道处方粮等食物。首先，处于拉肚子的状态下的狗狗胃肠道...\n"
     ]
    }
   ],
   "source": [
    "df = pd.read_csv(r\"out.csv\") \n",
    "print(df.head()) "
   ]
  },
  {
   "cell_type": "code",
   "execution_count": 6,
   "id": "ee152f55-2e6d-40f7-bead-e24cab244f17",
   "metadata": {},
   "outputs": [
    {
     "data": {
      "text/html": [
       "<div>\n",
       "<style scoped>\n",
       "    .dataframe tbody tr th:only-of-type {\n",
       "        vertical-align: middle;\n",
       "    }\n",
       "\n",
       "    .dataframe tbody tr th {\n",
       "        vertical-align: top;\n",
       "    }\n",
       "\n",
       "    .dataframe thead th {\n",
       "        text-align: right;\n",
       "    }\n",
       "</style>\n",
       "<table border=\"1\" class=\"dataframe\">\n",
       "  <thead>\n",
       "    <tr style=\"text-align: right;\">\n",
       "      <th></th>\n",
       "      <th>question</th>\n",
       "      <th>answer</th>\n",
       "    </tr>\n",
       "  </thead>\n",
       "  <tbody>\n",
       "    <tr>\n",
       "      <th>0</th>\n",
       "      <td>犬瘟狗狗一直哼哼的叫怎么办</td>\n",
       "      <td>狗狗感染犬瘟热病毒出现一直哼哼的叫，需要立即咨询医生用药治疗。通常狗狗感染犬瘟热病毒会出现精...</td>\n",
       "    </tr>\n",
       "    <tr>\n",
       "      <th>1</th>\n",
       "      <td>狗狗内脏受伤能活几天</td>\n",
       "      <td>狗狗内脏受损存活的时间与损伤程度息息相关。如果是心脏、脾脏等重要器官损伤出血，通常几分钟或者...</td>\n",
       "    </tr>\n",
       "    <tr>\n",
       "      <th>2</th>\n",
       "      <td>三个月泰迪怎么训练大小便</td>\n",
       "      <td>通常情况下，建议3月龄泰迪使用奖惩的方式训练大小便。3月龄的泰迪学习能力较强，通常训练3月零...</td>\n",
       "    </tr>\n",
       "    <tr>\n",
       "      <th>3</th>\n",
       "      <td>狗狗眼睛有白色粘稠物</td>\n",
       "      <td>狗狗眼睛有白色粘稠物，需要主人每天用生理盐水沾湿纸巾擦拭眼睛周围异物。通常引起狗狗眼睛分泌白...</td>\n",
       "    </tr>\n",
       "    <tr>\n",
       "      <th>4</th>\n",
       "      <td>狗狗拉肚子恢复期吃什么食物</td>\n",
       "      <td>狗狗拉肚子恢复期建议喂食肠道处方罐头、肠道处方粮等食物。首先，处于拉肚子的状态下的狗狗胃肠道...</td>\n",
       "    </tr>\n",
       "    <tr>\n",
       "      <th>...</th>\n",
       "      <td>...</td>\n",
       "      <td>...</td>\n",
       "    </tr>\n",
       "    <tr>\n",
       "      <th>104440</th>\n",
       "      <td>速诺对猫泌尿道疾病有效果吗</td>\n",
       "      <td>速诺为广谱抗菌素，对大多数革兰氏阳性菌、革兰氏阴性菌都有效果。主要成分是氨苄青霉素，是一种半...</td>\n",
       "    </tr>\n",
       "    <tr>\n",
       "      <th>104441</th>\n",
       "      <td>猫咪发出嗯的声音</td>\n",
       "      <td>猫咪发出嗯的声音一般是在很信任的人面前才会出现。其中猫咪发出不同的声音也有不同的意思，比如简...</td>\n",
       "    </tr>\n",
       "    <tr>\n",
       "      <th>104442</th>\n",
       "      <td>美国短尾猫掉毛吗</td>\n",
       "      <td>美国短毛猫是会掉毛的。刚出生的幼猫毛发稀疏单薄，但在4-6月龄左右会出现第一次换毛的情况，将...</td>\n",
       "    </tr>\n",
       "    <tr>\n",
       "      <th>104443</th>\n",
       "      <td>猫肛门和尿道怎么区分</td>\n",
       "      <td>猫的肛门和尿道口（外生殖道口）都在尾巴的腹侧，只是肛门更加靠近尾巴，母猫的尿道开口于外生殖道...</td>\n",
       "    </tr>\n",
       "    <tr>\n",
       "      <th>104444</th>\n",
       "      <td>猫结晶堵住了尿道</td>\n",
       "      <td>对于猫猫结晶堵住了尿道的情况，要及时带到医院就医。结晶堵在尿道如果出现不完全阻塞，猫猫尿道很...</td>\n",
       "    </tr>\n",
       "  </tbody>\n",
       "</table>\n",
       "<p>104445 rows × 2 columns</p>\n",
       "</div>"
      ],
      "text/plain": [
       "             question                                             answer\n",
       "0       犬瘟狗狗一直哼哼的叫怎么办  狗狗感染犬瘟热病毒出现一直哼哼的叫，需要立即咨询医生用药治疗。通常狗狗感染犬瘟热病毒会出现精...\n",
       "1          狗狗内脏受伤能活几天  狗狗内脏受损存活的时间与损伤程度息息相关。如果是心脏、脾脏等重要器官损伤出血，通常几分钟或者...\n",
       "2        三个月泰迪怎么训练大小便  通常情况下，建议3月龄泰迪使用奖惩的方式训练大小便。3月龄的泰迪学习能力较强，通常训练3月零...\n",
       "3          狗狗眼睛有白色粘稠物  狗狗眼睛有白色粘稠物，需要主人每天用生理盐水沾湿纸巾擦拭眼睛周围异物。通常引起狗狗眼睛分泌白...\n",
       "4       狗狗拉肚子恢复期吃什么食物  狗狗拉肚子恢复期建议喂食肠道处方罐头、肠道处方粮等食物。首先，处于拉肚子的状态下的狗狗胃肠道...\n",
       "...               ...                                                ...\n",
       "104440  速诺对猫泌尿道疾病有效果吗  速诺为广谱抗菌素，对大多数革兰氏阳性菌、革兰氏阴性菌都有效果。主要成分是氨苄青霉素，是一种半...\n",
       "104441       猫咪发出嗯的声音  猫咪发出嗯的声音一般是在很信任的人面前才会出现。其中猫咪发出不同的声音也有不同的意思，比如简...\n",
       "104442       美国短尾猫掉毛吗  美国短毛猫是会掉毛的。刚出生的幼猫毛发稀疏单薄，但在4-6月龄左右会出现第一次换毛的情况，将...\n",
       "104443     猫肛门和尿道怎么区分  猫的肛门和尿道口（外生殖道口）都在尾巴的腹侧，只是肛门更加靠近尾巴，母猫的尿道开口于外生殖道...\n",
       "104444       猫结晶堵住了尿道  对于猫猫结晶堵住了尿道的情况，要及时带到医院就医。结晶堵在尿道如果出现不完全阻塞，猫猫尿道很...\n",
       "\n",
       "[104445 rows x 2 columns]"
      ]
     },
     "execution_count": 6,
     "metadata": {},
     "output_type": "execute_result"
    }
   ],
   "source": [
    "df_cp = df.drop_duplicates(['answer', 'question'],keep='last' )\n",
    "df_cp\n",
    " "
   ]
  },
  {
   "cell_type": "code",
   "execution_count": 7,
   "id": "011bf1d3-11c9-4764-994c-cc9722e1ca69",
   "metadata": {},
   "outputs": [
    {
     "name": "stdout",
     "output_type": "stream",
     "text": [
      "Successfully saved!\n"
     ]
    }
   ],
   "source": [
    "df.to_csv(\"test-post.csv\",index=False,sep=',') \n",
    "print('Successfully saved!')"
   ]
  },
  {
   "cell_type": "code",
   "execution_count": 14,
   "id": "08bab685-9f9b-4798-8b68-40ddfb94f952",
   "metadata": {},
   "outputs": [
    {
     "name": "stdout",
     "output_type": "stream",
     "text": [
      "Collecting jieba\n",
      "  Using cached jieba-0.42.1.tar.gz (19.2 MB)\n",
      "  Preparing metadata (setup.py): started\n",
      "  Preparing metadata (setup.py): finished with status 'done'\n",
      "Building wheels for collected packages: jieba\n",
      "  Building wheel for jieba (setup.py): started\n",
      "  Building wheel for jieba (setup.py): finished with status 'done'\n",
      "  Created wheel for jieba: filename=jieba-0.42.1-py3-none-any.whl size=19314459 sha256=4afc01cb8c2c69c7802fbe3a203d4516a319258ea85a6bf1733606f075fb97c6\n",
      "  Stored in directory: c:\\users\\xxuu\\appdata\\local\\pip\\cache\\wheels\\7d\\74\\cf\\08c94db4b784e2c1ef675a600b7b5b281fd25240dcb954ee7e\n",
      "Successfully built jieba\n",
      "Installing collected packages: jieba\n",
      "Successfully installed jieba-0.42.1\n",
      "Note: you may need to restart the kernel to use updated packages.\n"
     ]
    }
   ],
   "source": [
    "pip install jieba"
   ]
  },
  {
   "cell_type": "code",
   "execution_count": 16,
   "id": "c8dc65f4-6f1a-4935-a757-bf8fe8f073ac",
   "metadata": {},
   "outputs": [
    {
     "name": "stderr",
     "output_type": "stream",
     "text": [
      "[nltk_data] Downloading package stopwords to\n",
      "[nltk_data]     C:\\Users\\xxuu\\AppData\\Roaming\\nltk_data...\n",
      "[nltk_data]   Package stopwords is already up-to-date!\n"
     ]
    }
   ],
   "source": [
    "import pandas as pd\n",
    "import jieba\n",
    "from nltk.corpus import stopwords\n",
    "\n",
    "# 如果没有下载过stopwords，需要先下载\n",
    "import nltk\n",
    "nltk.download('stopwords')\n",
    "\n",
    "# 加载CSV文件\n",
    "file_path = 'out.csv'\n",
    "df = pd.read_csv(file_path)\n",
    "\n",
    "# 定义一个函数进行分词和去停用词\n",
    "def preprocess_text(text):\n",
    "    # 使用jieba进行分词\n",
    "    words = jieba.lcut(text)\n",
    "    # 获取中文停用词表\n",
    "    stop_words = set(stopwords.words('chinese'))\n",
    "    # 去停用词\n",
    "    filtered_words = [word for word in words if word not in stop_words]\n",
    "    return ' '.join(filtered_words)\n",
    "\n",
    "# 对question和answer列进行预处理\n",
    "df['question'] = df['question'].apply(preprocess_text)\n",
    "\n",
    "# 保存预处理后的数据到新的CSV文件\n",
    "processed_file_path = 'processed_file.csv'\n",
    "df.to_csv(processed_file_path, index=False)\n"
   ]
  },
  {
   "cell_type": "code",
   "execution_count": 17,
   "id": "8354071f-0372-46c9-abef-d3ae221ae80c",
   "metadata": {},
   "outputs": [
    {
     "name": "stdout",
     "output_type": "stream",
     "text": [
      "数据预处理和关键词提取完成并保存到 processed_file_with_keywords.csv\n"
     ]
    }
   ],
   "source": [
    "import pandas as pd\n",
    "import jieba\n",
    "import jieba.analyse\n",
    "from nltk.corpus import stopwords\n",
    "\n",
    "# 如果没有下载过stopwords，需要先下载\n",
    "import nltk\n",
    "\n",
    "# 加载CSV文件\n",
    "file_path = 'out.csv'  # 请替换为你的CSV文件路径\n",
    "df = pd.read_csv(file_path)\n",
    "\n",
    "# 定义一个函数进行分词和去停用词\n",
    "def preprocess_text(text):\n",
    "    # 使用jieba进行分词\n",
    "    words = jieba.lcut(text)\n",
    "    # 获取中文停用词表\n",
    "    stop_words = set(stopwords.words('chinese'))\n",
    "    # 去停用词\n",
    "    filtered_words = [word for word in words if word not in stop_words]\n",
    "    return ' '.join(filtered_words)\n",
    "\n",
    "# 定义一个函数进行关键词提取\n",
    "def extract_keywords(text, topK=5):\n",
    "    keywords = jieba.analyse.extract_tags(text, topK=topK)\n",
    "    return ', '.join(keywords)\n",
    "\n",
    "# 对question和answer列进行预处理和关键词提取\n",
    "df['processed_question'] = df['question'].apply(preprocess_text)\n",
    "df['processed_answer'] = df['answer'].apply(preprocess_text)\n",
    "df['question_keywords'] = df['processed_question'].apply(lambda x: extract_keywords(x, topK=5))\n",
    "df['answer_keywords'] = df['processed_answer'].apply(lambda x: extract_keywords(x, topK=5))\n",
    "\n",
    "# 保存预处理后的数据到新的CSV文件\n",
    "processed_file_path = 'pfwk.csv'  # 请替换为你想要保存的路径\n",
    "df.to_csv(processed_file_path, index=False)\n",
    "\n",
    "print(\"数据预处理和关键词提取完成并保存到\", processed_file_path)\n"
   ]
  },
  {
   "cell_type": "code",
   "execution_count": 23,
   "id": "5abda194-3e70-4121-9dc0-aef89b2c77b0",
   "metadata": {},
   "outputs": [
    {
     "name": "stdout",
     "output_type": "stream",
     "text": [
      "数据预处理和保存完成，文件路径： processed_file.csv\n"
     ]
    }
   ],
   "source": [
    "import pandas as pd\n",
    "import jieba\n",
    "import jieba.analyse\n",
    "from nltk.corpus import stopwords\n",
    "\n",
    "# 如果没有下载过 stopwords，需要先下载\n",
    "import nltk\n",
    "\n",
    "# 加载 CSV 文件\n",
    "file_path = 'out.csv'  # 请替换为你的 CSV 文件路径\n",
    "df = pd.read_csv(file_path)\n",
    "\n",
    "# 定义一个函数进行分词和去停用词\n",
    "def preprocess_text(text):\n",
    "    # 使用 jieba 进行分词\n",
    "    words = jieba.lcut(text)\n",
    "    # 获取中文停用词表\n",
    "    stop_words = set(stopwords.words('chinese'))\n",
    "    # 去停用词\n",
    "    filtered_words = [word for word in words if word not in stop_words]\n",
    "    return ' '.join(filtered_words)\n",
    "\n",
    "# 定义一个函数进行关键词提取，增加 topK 数量并结合TF-IDF权重\n",
    "def extract_keywords(text, topK=10):\n",
    "    keywords = jieba.analyse.extract_tags(text, topK=topK, withWeight=False)\n",
    "    return ', '.join(keywords)\n",
    "\n",
    "# 对 question 列进行预处理和关键词提取\n",
    "df['preprocessed_question'] = df['question'].apply(preprocess_text)\n",
    "df['question_keywords'] = df['preprocessed_question'].apply(lambda x: extract_keywords(x, topK=10))\n",
    "\n",
    "# 选择需要保存的列，并重命名\n",
    "df_to_save = df[['question_keywords', 'answer']].rename(columns={'question_keywords': 'question'})\n",
    "\n",
    "# 保存预处理后的数据到新的 CSV 文件\n",
    "processed_file_path = 'processed_file.csv'  # 请替换为你想要保存的路径\n",
    "df_to_save.to_csv(processed_file_path, index=False)\n",
    "\n",
    "print(\"数据预处理和保存完成，文件路径：\", processed_file_path)\n"
   ]
  },
  {
   "cell_type": "code",
   "execution_count": 28,
   "id": "98bef3fd-c493-4b3c-96e8-8dab48943c6b",
   "metadata": {},
   "outputs": [
    {
     "data": {
      "text/html": [
       "<div>\n",
       "<style scoped>\n",
       "    .dataframe tbody tr th:only-of-type {\n",
       "        vertical-align: middle;\n",
       "    }\n",
       "\n",
       "    .dataframe tbody tr th {\n",
       "        vertical-align: top;\n",
       "    }\n",
       "\n",
       "    .dataframe thead th {\n",
       "        text-align: right;\n",
       "    }\n",
       "</style>\n",
       "<table border=\"1\" class=\"dataframe\">\n",
       "  <thead>\n",
       "    <tr style=\"text-align: right;\">\n",
       "      <th></th>\n",
       "      <th>question</th>\n",
       "      <th>answer</th>\n",
       "    </tr>\n",
       "  </thead>\n",
       "  <tbody>\n",
       "    <tr>\n",
       "      <th>0</th>\n",
       "      <td>狗狗, 哼哼</td>\n",
       "      <td>狗狗感染犬瘟热病毒出现一直哼哼的叫，需要立即咨询医生用药治疗。通常狗狗感染犬瘟热病毒会出现精...</td>\n",
       "    </tr>\n",
       "    <tr>\n",
       "      <th>1</th>\n",
       "      <td>能活, 狗狗, 内脏, 受伤, 几天</td>\n",
       "      <td>狗狗内脏受损存活的时间与损伤程度息息相关。如果是心脏、脾脏等重要器官损伤出血，通常几分钟或者...</td>\n",
       "    </tr>\n",
       "    <tr>\n",
       "      <th>2</th>\n",
       "      <td>泰迪, 大小便, 训练, 三个</td>\n",
       "      <td>通常情况下，建议3月龄泰迪使用奖惩的方式训练大小便。3月龄的泰迪学习能力较强，通常训练3月零...</td>\n",
       "    </tr>\n",
       "    <tr>\n",
       "      <th>3</th>\n",
       "      <td>狗狗, 粘稠, 白色, 眼睛</td>\n",
       "      <td>狗狗眼睛有白色粘稠物，需要主人每天用生理盐水沾湿纸巾擦拭眼睛周围异物。通常引起狗狗眼睛分泌白...</td>\n",
       "    </tr>\n",
       "    <tr>\n",
       "      <th>4</th>\n",
       "      <td>狗狗, 拉肚子, 恢复期, 食物</td>\n",
       "      <td>狗狗拉肚子恢复期建议喂食肠道处方罐头、肠道处方粮等食物。首先，处于拉肚子的状态下的狗狗胃肠道...</td>\n",
       "    </tr>\n",
       "  </tbody>\n",
       "</table>\n",
       "</div>"
      ],
      "text/plain": [
       "             question                                             answer\n",
       "0              狗狗, 哼哼  狗狗感染犬瘟热病毒出现一直哼哼的叫，需要立即咨询医生用药治疗。通常狗狗感染犬瘟热病毒会出现精...\n",
       "1  能活, 狗狗, 内脏, 受伤, 几天  狗狗内脏受损存活的时间与损伤程度息息相关。如果是心脏、脾脏等重要器官损伤出血，通常几分钟或者...\n",
       "2     泰迪, 大小便, 训练, 三个  通常情况下，建议3月龄泰迪使用奖惩的方式训练大小便。3月龄的泰迪学习能力较强，通常训练3月零...\n",
       "3      狗狗, 粘稠, 白色, 眼睛  狗狗眼睛有白色粘稠物，需要主人每天用生理盐水沾湿纸巾擦拭眼睛周围异物。通常引起狗狗眼睛分泌白...\n",
       "4    狗狗, 拉肚子, 恢复期, 食物  狗狗拉肚子恢复期建议喂食肠道处方罐头、肠道处方粮等食物。首先，处于拉肚子的状态下的狗狗胃肠道..."
      ]
     },
     "execution_count": 28,
     "metadata": {},
     "output_type": "execute_result"
    }
   ],
   "source": [
    "df_to_save.head()"
   ]
  },
  {
   "cell_type": "code",
   "execution_count": 29,
   "id": "6a8ee906-565c-4e31-be3a-69e976b19db5",
   "metadata": {},
   "outputs": [],
   "source": [
    "import pandas as pd\n",
    "\n",
    "def remove_rows(csv_file_path, start_index, end_index, output_file_path):\n",
    "    # 读取 CSV 文件\n",
    "    df = pd.read_csv(csv_file_path)\n",
    "\n",
    "    # 删除指定行数的数据\n",
    "    df.drop(df.index[start_index:end_index], inplace=True)\n",
    "\n",
    "    # 将结果写回到新的 CSV 文件中\n",
    "    df.to_csv(output_file_path, index=False)\n",
    "\n",
    "# 用法示例\n",
    "csv_file_path = 'out.csv'  # 输入的 CSV 文件路径\n",
    "output_file_path = 'output.csv'  # 输出的 CSV 文件路径\n",
    "start_index = 10000  # 要删除的起始行数\n",
    "end_index = 104445  # 要删除的结束行数\n",
    "remove_rows(csv_file_path, start_index, end_index, output_file_path)\n"
   ]
  },
  {
   "cell_type": "code",
   "execution_count": null,
   "id": "1cc494fb-d819-47b9-adcc-7954915cfe82",
   "metadata": {},
   "outputs": [],
   "source": []
  }
 ],
 "metadata": {
  "kernelspec": {
   "display_name": "Python 3 (ipykernel)",
   "language": "python",
   "name": "python3"
  },
  "language_info": {
   "codemirror_mode": {
    "name": "ipython",
    "version": 3
   },
   "file_extension": ".py",
   "mimetype": "text/x-python",
   "name": "python",
   "nbconvert_exporter": "python",
   "pygments_lexer": "ipython3",
   "version": "3.9.13"
  }
 },
 "nbformat": 4,
 "nbformat_minor": 5
}
